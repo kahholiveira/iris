{
 "cells": [
  {
   "cell_type": "code",
   "execution_count": null,
   "id": "9b02c72e",
   "metadata": {},
   "outputs": [],
   "source": [
    "# Iris Analysis\n",
    "\n",
    "Esta aplicação realiza análise de dados do Iris e visualização interativa utilizando pandas, seaborn e plotly. Além disso, implementa um modelo de classificação com scikit-learn.\n",
    "\n",
    "## Instalação\n",
    "\n",
    "```sh\n",
    "pip install git+https://github.com/SEU_USUARIO/iris-analysis.git\n"
   ]
  }
 ],
 "metadata": {
  "kernelspec": {
   "display_name": "Python 3 (ipykernel)",
   "language": "python",
   "name": "python3"
  },
  "language_info": {
   "codemirror_mode": {
    "name": "ipython",
    "version": 3
   },
   "file_extension": ".py",
   "mimetype": "text/x-python",
   "name": "python",
   "nbconvert_exporter": "python",
   "pygments_lexer": "ipython3",
   "version": "3.11.5"
  }
 },
 "nbformat": 4,
 "nbformat_minor": 5
}
