{
 "cells": [
  {
   "cell_type": "code",
   "execution_count": null,
   "id": "ceef8748",
   "metadata": {},
   "outputs": [],
   "source": [
    "# iris_analysis/__init__.py\n",
    "\n",
    "from .data_loader import carregar_dados\n",
    "from .eda import analise_basica, analise_categorica\n",
    "from .visualizations import pairplot, grafico_barras, grafico_pizza\n",
    "from .model import treinar_modelo\n"
   ]
  }
 ],
 "metadata": {
  "kernelspec": {
   "display_name": "Python 3 (ipykernel)",
   "language": "python",
   "name": "python3"
  },
  "language_info": {
   "codemirror_mode": {
    "name": "ipython",
    "version": 3
   },
   "file_extension": ".py",
   "mimetype": "text/x-python",
   "name": "python",
   "nbconvert_exporter": "python",
   "pygments_lexer": "ipython3",
   "version": "3.11.5"
  }
 },
 "nbformat": 4,
 "nbformat_minor": 5
}
