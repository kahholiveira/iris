{
 "cells": [
  {
   "cell_type": "code",
   "execution_count": null,
   "id": "9d14c433",
   "metadata": {},
   "outputs": [],
   "source": [
    "# iris_analysis/data_loader.py\n",
    "\n",
    "import pandas as pd\n",
    "\n",
    "def carregar_dados(caminho):\n",
    "    \"\"\"Carrega os dados do Iris de um arquivo CSV.\"\"\"\n",
    "    return pd.read_csv(caminho)\n"
   ]
  }
 ],
 "metadata": {
  "kernelspec": {
   "display_name": "Python 3 (ipykernel)",
   "language": "python",
   "name": "python3"
  },
  "language_info": {
   "codemirror_mode": {
    "name": "ipython",
    "version": 3
   },
   "file_extension": ".py",
   "mimetype": "text/x-python",
   "name": "python",
   "nbconvert_exporter": "python",
   "pygments_lexer": "ipython3",
   "version": "3.11.5"
  }
 },
 "nbformat": 4,
 "nbformat_minor": 5
}
