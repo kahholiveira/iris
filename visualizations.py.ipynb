{
 "cells": [
  {
   "cell_type": "code",
   "execution_count": null,
   "id": "dbe41962",
   "metadata": {},
   "outputs": [],
   "source": [
    "# iris_analysis/visualizations.py\n",
    "\n",
    "import seaborn as sns\n",
    "import matplotlib.pyplot as plt\n",
    "import plotly.express as px\n",
    "\n",
    "def pairplot(df):\n",
    "    \"\"\"Cria um pairplot das variáveis do dataset.\"\"\"\n",
    "    sns.pairplot(df, hue='species')\n",
    "    plt.show()\n",
    "\n",
    "def grafico_barras(df, coluna):\n",
    "    \"\"\"Cria um gráfico de barras para uma coluna específica.\"\"\"\n",
    "    fig = px.bar(df[coluna].value_counts().reset_index(), x='index', y=coluna, title=f'Distribuição de {coluna}')\n",
    "    fig.show()\n",
    "\n",
    "def grafico_pizza(df, coluna):\n",
    "    \"\"\"Cria um gráfico de pizza para uma coluna específica.\"\"\"\n",
    "    fig = px.pie(df, names=coluna, title=f'Distribuição de {coluna}')\n",
    "    fig.show()\n"
   ]
  }
 ],
 "metadata": {
  "kernelspec": {
   "display_name": "Python 3 (ipykernel)",
   "language": "python",
   "name": "python3"
  },
  "language_info": {
   "codemirror_mode": {
    "name": "ipython",
    "version": 3
   },
   "file_extension": ".py",
   "mimetype": "text/x-python",
   "name": "python",
   "nbconvert_exporter": "python",
   "pygments_lexer": "ipython3",
   "version": "3.11.5"
  }
 },
 "nbformat": 4,
 "nbformat_minor": 5
}
