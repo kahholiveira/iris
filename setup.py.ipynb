{
 "cells": [
  {
   "cell_type": "code",
   "execution_count": null,
   "id": "6b4e1015",
   "metadata": {},
   "outputs": [],
   "source": [
    "# setup.py\n",
    "\n",
    "from setuptools import setup, find_packages\n",
    "\n",
    "setup(\n",
    "    name='iris_analysis',\n",
    "    version='0.1',\n",
    "    packages=find_packages(),\n",
    "    description='Uma aplicação de análise de dados Iris com visualização interativa e modelo de machine learning',\n",
    "    author='Seu Nome',\n",
    "    author_email='seu.email@example.com',\n",
    "    url='https://github.com/SEU_USUARIO/iris-analysis',\n",
    "    install_requires=[\n",
    "        'pandas',\n",
    "        'seaborn',\n",
    "        'plotly',\n",
    "        'scikit-learn',\n",
    "    ],\n",
    ")\n"
   ]
  }
 ],
 "metadata": {
  "kernelspec": {
   "display_name": "Python 3 (ipykernel)",
   "language": "python",
   "name": "python3"
  },
  "language_info": {
   "codemirror_mode": {
    "name": "ipython",
    "version": 3
   },
   "file_extension": ".py",
   "mimetype": "text/x-python",
   "name": "python",
   "nbconvert_exporter": "python",
   "pygments_lexer": "ipython3",
   "version": "3.11.5"
  }
 },
 "nbformat": 4,
 "nbformat_minor": 5
}
