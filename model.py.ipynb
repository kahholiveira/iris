{
 "cells": [
  {
   "cell_type": "code",
   "execution_count": null,
   "id": "70ff3d78",
   "metadata": {},
   "outputs": [],
   "source": [
    "# iris_analysis/model.py\n",
    "\n",
    "from sklearn.model_selection import train_test_split\n",
    "from sklearn.ensemble import RandomForestClassifier\n",
    "from sklearn.metrics import accuracy_score, classification_report\n",
    "\n",
    "def treinar_modelo(df):\n",
    "    \"\"\"Treina um modelo de classificação usando RandomForest.\"\"\"\n",
    "    X = df.drop('species', axis=1)\n",
    "    y = df['species']\n",
    "    \n",
    "    X_train, X_test, y_train, y_test = train_test_split(X, y, test_size=0.2, random_state=42)\n",
    "    \n",
    "    modelo = RandomForestClassifier(random_state=42)\n",
    "    modelo.fit(X_train, y_train)\n",
    "    \n",
    "    y_pred = modelo.predict(X_test)\n",
    "    \n",
    "    accuracy = accuracy_score(y_test, y_pred)\n",
    "    report = classification_report(y_test, y_pred)\n",
    "    \n",
    "    print(f\"Accuracy: {accuracy}\")\n",
    "    print(f\"Classification Report:\\n{report}\")\n",
    "    \n",
    "    return modelo\n"
   ]
  }
 ],
 "metadata": {
  "kernelspec": {
   "display_name": "Python 3 (ipykernel)",
   "language": "python",
   "name": "python3"
  },
  "language_info": {
   "codemirror_mode": {
    "name": "ipython",
    "version": 3
   },
   "file_extension": ".py",
   "mimetype": "text/x-python",
   "name": "python",
   "nbconvert_exporter": "python",
   "pygments_lexer": "ipython3",
   "version": "3.11.5"
  }
 },
 "nbformat": 4,
 "nbformat_minor": 5
}
