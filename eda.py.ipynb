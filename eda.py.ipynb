{
 "cells": [
  {
   "cell_type": "code",
   "execution_count": null,
   "id": "8ca58c39",
   "metadata": {},
   "outputs": [],
   "source": [
    "# iris_analysis/eda.py\n",
    "\n",
    "def analise_basica(df):\n",
    "    \"\"\"Realiza uma análise básica dos dados.\"\"\"\n",
    "    print(\"Informações Gerais:\")\n",
    "    print(df.info())\n",
    "    print(\"\\nDescrição Estatística:\")\n",
    "    print(df.describe())\n",
    "\n",
    "def analise_categorica(df, coluna):\n",
    "    \"\"\"Analisa uma coluna categórica.\"\"\"\n",
    "    print(f\"\\nAnálise da Coluna: {coluna}\")\n",
    "    print(df[coluna].value_counts())\n"
   ]
  }
 ],
 "metadata": {
  "kernelspec": {
   "display_name": "Python 3 (ipykernel)",
   "language": "python",
   "name": "python3"
  },
  "language_info": {
   "codemirror_mode": {
    "name": "ipython",
    "version": 3
   },
   "file_extension": ".py",
   "mimetype": "text/x-python",
   "name": "python",
   "nbconvert_exporter": "python",
   "pygments_lexer": "ipython3",
   "version": "3.11.5"
  }
 },
 "nbformat": 4,
 "nbformat_minor": 5
}
